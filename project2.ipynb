{
 "cells": [
  {
   "cell_type": "code",
   "execution_count": 26,
   "metadata": {},
   "outputs": [],
   "source": [
    "import pandas as pd\n",
    "import mysql.connector\n",
    "import numpy as np\n",
    "\n"
   ]
  },
  {
   "cell_type": "code",
   "execution_count": null,
   "metadata": {},
   "outputs": [],
   "source": [
    "customers = pd.read_csv('C:\\\\vs\\\\global\\\\uncleaned data\\\\Customers.csv',encoding='unicode_escape')\n",
    "products = pd.read_csv(\"C:\\\\vs\\\\global\\\\uncleaned data\\\\Products.csv\", encoding=\"unicode_escape\")\n",
    "sales = pd.read_csv(\"C:\\\\vs\\\\global\\\\uncleaned data\\\\Sales.csv\", encoding=\"unicode_escape\")\n",
    "stores = pd.read_csv(\"C:\\\\vs\\\\global\\\\uncleaned data\\\\Stores.csv\", encoding=\"unicode_escape\")\n",
    "exchange_rates = pd.read_csv(\"C:\\\\vs\\\\global\\\\uncleaned data\\\\Exchange_Rates.csv\", encoding=\"unicode_escape\")\n",
    "\n"
   ]
  },
  {
   "cell_type": "code",
   "execution_count": null,
   "metadata": {},
   "outputs": [],
   "source": [
    "def clean_data(df):\n",
    "    # Handle missing values\n",
    "    df.ffill(inplace=True)\n",
    "    df.bfill(inplace=True)\n",
    "    return df\n",
    "\n",
    "customers = clean_data(customers)\n",
    "products = clean_data(products)\n",
    "sales = clean_data(sales)\n",
    "stores = clean_data(stores)\n",
    "exchange_rates = clean_data(exchange_rates)"
   ]
  },
  {
   "cell_type": "code",
   "execution_count": null,
   "metadata": {},
   "outputs": [],
   "source": [
    "# Save the cleaned data to a CSV file\n",
    "customers.to_csv(\"C:\\\\vs\\\\global\\\\cleaned data\\\\Customers1.csv\", encoding=\"utf-8\", index=False)\n",
    "sales.to_csv(\"C:\\\\vs\\\\global\\\\cleaned data\\\\Sales1.csv\", encoding=\"utf-8\", index=False)\n",
    "products.to_csv(\"C:\\\\vs\\\\global\\\\cleaned data\\\\Products1.csv\", encoding=\"utf-8\", index=False)\n",
    "stores.to_csv(\"C:\\\\vs\\\\global\\\\cleaned data\\\\Stores1.csv\", encoding=\"utf-8\", index=False)\n",
    "exchange_rates.to_csv(\"C:\\\\vs\\\\global\\\\cleaned data\\\\Exchange_rates.csv\", encoding=\"utf-8\", index=False)\n"
   ]
  },
  {
   "cell_type": "code",
   "execution_count": null,
   "metadata": {},
   "outputs": [],
   "source": [
    "# Convert 'Birthday' to datetime format\n",
    "customers['Birthday'] = pd.to_datetime(customers['Birthday'], format='%m/%d/%Y').dt.strftime('%Y-%m-%d')"
   ]
  },
  {
   "cell_type": "code",
   "execution_count": null,
   "metadata": {},
   "outputs": [],
   "source": [
    "stores['Open Date'] = pd.to_datetime(stores['Open Date'], format='%m/%d/%Y').dt.strftime('%y-%m-%d')"
   ]
  },
  {
   "cell_type": "code",
   "execution_count": null,
   "metadata": {},
   "outputs": [],
   "source": [
    "exchange_rates['Date'] = pd.to_datetime(exchange_rates['Date'], format='%m/%d/%Y').dt.strftime('%y-%m-%d')"
   ]
  },
  {
   "cell_type": "code",
   "execution_count": null,
   "metadata": {},
   "outputs": [],
   "source": [
    "sales['Order Date'] = pd.to_datetime(sales['Order Date'], format='%m/%d/%Y').dt.strftime('%y-%m-%d')\n",
    "sales['Delivery Date'] = pd.to_datetime(sales['Delivery Date'], format='%m/%d/%Y').dt.strftime('%y-%m-%d')"
   ]
  },
  {
   "cell_type": "code",
   "execution_count": null,
   "metadata": {},
   "outputs": [],
   "source": [
    "# Function to clean and convert currency columns\n",
    "def clean_currency_column(df, column_name):\n",
    "    if column_name in df.columns:\n",
    "        # Remove dollar signs and extra spaces, then convert to numeric\n",
    "        df[column_name] = df[column_name].replace('[\\\\$,]', '', regex=True).astype(float)\n",
    "    return df\n",
    "\n",
    "# Clean the currency columns in products_df\n",
    "products = clean_currency_column(products, 'Unit Cost USD')\n",
    "products = clean_currency_column(products, 'Unit Price USD')"
   ]
  },
  {
   "cell_type": "code",
   "execution_count": null,
   "metadata": {},
   "outputs": [],
   "source": [
    "# Merging dataframes\n",
    "merged_data = pd.merge(sales, customers, on=\"CustomerKey\")\n",
    "merged_data = pd.merge(merged_data, products, on=\"ProductKey\")\n",
    "merged_data = pd.merge(merged_data, stores, on=\"StoreKey\")\n"
   ]
  },
  {
   "cell_type": "code",
   "execution_count": null,
   "metadata": {},
   "outputs": [],
   "source": [
    "# Converting date columns to datetime format\n",
    "merged_data[\"Order Date\"] = pd.to_datetime(merged_data[\"Order Date\"])\n",
    "merged_data[\"Delivery Date\"] = pd.to_datetime(merged_data[\"Delivery Date\"])\n",
    "merged_data[\"Birthday\"] = pd.to_datetime(merged_data[\"Birthday\"])\n",
    "\n"
   ]
  },
  {
   "cell_type": "code",
   "execution_count": null,
   "metadata": {},
   "outputs": [],
   "source": [
    "# Handling exchange rates\n",
    "exchange_rates.info()\n",
    "exchange_rates[\"Date\"] = pd.to_datetime(exchange_rates[\"Date\"])\n",
    "print(f\"Date: {exchange_rates['Date'].min(), exchange_rates['Date'].max()}\")\n"
   ]
  },
  {
   "cell_type": "code",
   "execution_count": null,
   "metadata": {},
   "outputs": [],
   "source": [
    "# Merging exchange rates with merged data\n",
    "merged_data = pd.merge(merged_data, exchange_rates, left_on=\"Order Date\", right_on=\"Date\", how=\"left\")\n"
   ]
  },
  {
   "cell_type": "code",
   "execution_count": null,
   "metadata": {},
   "outputs": [],
   "source": [
    "# Save the merged data to a CSV file\n",
    "merged_data.to_csv(\"merged_data.csv\", encoding=\"utf-8\", index=False)"
   ]
  },
  {
   "cell_type": "code",
   "execution_count": 3,
   "metadata": {},
   "outputs": [
    {
     "data": {
      "text/html": [
       "<div>\n",
       "<style scoped>\n",
       "    .dataframe tbody tr th:only-of-type {\n",
       "        vertical-align: middle;\n",
       "    }\n",
       "\n",
       "    .dataframe tbody tr th {\n",
       "        vertical-align: top;\n",
       "    }\n",
       "\n",
       "    .dataframe thead th {\n",
       "        text-align: right;\n",
       "    }\n",
       "</style>\n",
       "<table border=\"1\" class=\"dataframe\">\n",
       "  <thead>\n",
       "    <tr style=\"text-align: right;\">\n",
       "      <th></th>\n",
       "      <th>Order Number</th>\n",
       "      <th>Line Item</th>\n",
       "      <th>Order Date</th>\n",
       "      <th>Delivery Date</th>\n",
       "      <th>CustomerKey</th>\n",
       "      <th>StoreKey</th>\n",
       "      <th>ProductKey</th>\n",
       "      <th>Quantity</th>\n",
       "      <th>Currency Code</th>\n",
       "      <th>Gender</th>\n",
       "      <th>...</th>\n",
       "      <th>Subcategory</th>\n",
       "      <th>CategoryKey</th>\n",
       "      <th>Category</th>\n",
       "      <th>Country_y</th>\n",
       "      <th>State_y</th>\n",
       "      <th>Square Meters</th>\n",
       "      <th>Open Date</th>\n",
       "      <th>Date</th>\n",
       "      <th>Currency</th>\n",
       "      <th>Exchange</th>\n",
       "    </tr>\n",
       "  </thead>\n",
       "  <tbody>\n",
       "    <tr>\n",
       "      <th>0</th>\n",
       "      <td>366000</td>\n",
       "      <td>1</td>\n",
       "      <td>2016-01-01</td>\n",
       "      <td>2016-01-13</td>\n",
       "      <td>265598</td>\n",
       "      <td>10</td>\n",
       "      <td>1304</td>\n",
       "      <td>1</td>\n",
       "      <td>CAD</td>\n",
       "      <td>Male</td>\n",
       "      <td>...</td>\n",
       "      <td>Cameras &amp; Camcorders Accessories</td>\n",
       "      <td>4</td>\n",
       "      <td>Cameras and camcorders</td>\n",
       "      <td>Canada</td>\n",
       "      <td>Nunavut</td>\n",
       "      <td>1210.0</td>\n",
       "      <td>4/4/2015</td>\n",
       "      <td>2016-01-01</td>\n",
       "      <td>USD</td>\n",
       "      <td>1.0000</td>\n",
       "    </tr>\n",
       "    <tr>\n",
       "      <th>1</th>\n",
       "      <td>366000</td>\n",
       "      <td>1</td>\n",
       "      <td>2016-01-01</td>\n",
       "      <td>2016-01-13</td>\n",
       "      <td>265598</td>\n",
       "      <td>10</td>\n",
       "      <td>1304</td>\n",
       "      <td>1</td>\n",
       "      <td>CAD</td>\n",
       "      <td>Male</td>\n",
       "      <td>...</td>\n",
       "      <td>Cameras &amp; Camcorders Accessories</td>\n",
       "      <td>4</td>\n",
       "      <td>Cameras and camcorders</td>\n",
       "      <td>Canada</td>\n",
       "      <td>Nunavut</td>\n",
       "      <td>1210.0</td>\n",
       "      <td>4/4/2015</td>\n",
       "      <td>2016-01-01</td>\n",
       "      <td>CAD</td>\n",
       "      <td>1.3884</td>\n",
       "    </tr>\n",
       "    <tr>\n",
       "      <th>2</th>\n",
       "      <td>366000</td>\n",
       "      <td>1</td>\n",
       "      <td>2016-01-01</td>\n",
       "      <td>2016-01-13</td>\n",
       "      <td>265598</td>\n",
       "      <td>10</td>\n",
       "      <td>1304</td>\n",
       "      <td>1</td>\n",
       "      <td>CAD</td>\n",
       "      <td>Male</td>\n",
       "      <td>...</td>\n",
       "      <td>Cameras &amp; Camcorders Accessories</td>\n",
       "      <td>4</td>\n",
       "      <td>Cameras and camcorders</td>\n",
       "      <td>Canada</td>\n",
       "      <td>Nunavut</td>\n",
       "      <td>1210.0</td>\n",
       "      <td>4/4/2015</td>\n",
       "      <td>2016-01-01</td>\n",
       "      <td>AUD</td>\n",
       "      <td>1.3683</td>\n",
       "    </tr>\n",
       "    <tr>\n",
       "      <th>3</th>\n",
       "      <td>366000</td>\n",
       "      <td>1</td>\n",
       "      <td>2016-01-01</td>\n",
       "      <td>2016-01-13</td>\n",
       "      <td>265598</td>\n",
       "      <td>10</td>\n",
       "      <td>1304</td>\n",
       "      <td>1</td>\n",
       "      <td>CAD</td>\n",
       "      <td>Male</td>\n",
       "      <td>...</td>\n",
       "      <td>Cameras &amp; Camcorders Accessories</td>\n",
       "      <td>4</td>\n",
       "      <td>Cameras and camcorders</td>\n",
       "      <td>Canada</td>\n",
       "      <td>Nunavut</td>\n",
       "      <td>1210.0</td>\n",
       "      <td>4/4/2015</td>\n",
       "      <td>2016-01-01</td>\n",
       "      <td>EUR</td>\n",
       "      <td>0.9185</td>\n",
       "    </tr>\n",
       "    <tr>\n",
       "      <th>4</th>\n",
       "      <td>366000</td>\n",
       "      <td>1</td>\n",
       "      <td>2016-01-01</td>\n",
       "      <td>2016-01-13</td>\n",
       "      <td>265598</td>\n",
       "      <td>10</td>\n",
       "      <td>1304</td>\n",
       "      <td>1</td>\n",
       "      <td>CAD</td>\n",
       "      <td>Male</td>\n",
       "      <td>...</td>\n",
       "      <td>Cameras &amp; Camcorders Accessories</td>\n",
       "      <td>4</td>\n",
       "      <td>Cameras and camcorders</td>\n",
       "      <td>Canada</td>\n",
       "      <td>Nunavut</td>\n",
       "      <td>1210.0</td>\n",
       "      <td>4/4/2015</td>\n",
       "      <td>2016-01-01</td>\n",
       "      <td>GBP</td>\n",
       "      <td>0.6742</td>\n",
       "    </tr>\n",
       "  </tbody>\n",
       "</table>\n",
       "<p>5 rows × 34 columns</p>\n",
       "</div>"
      ],
      "text/plain": [
       "   Order Number  Line Item  Order Date Delivery Date  CustomerKey  StoreKey  \\\n",
       "0        366000          1  2016-01-01    2016-01-13       265598        10   \n",
       "1        366000          1  2016-01-01    2016-01-13       265598        10   \n",
       "2        366000          1  2016-01-01    2016-01-13       265598        10   \n",
       "3        366000          1  2016-01-01    2016-01-13       265598        10   \n",
       "4        366000          1  2016-01-01    2016-01-13       265598        10   \n",
       "\n",
       "   ProductKey  Quantity Currency Code Gender  ...  \\\n",
       "0        1304         1           CAD   Male  ...   \n",
       "1        1304         1           CAD   Male  ...   \n",
       "2        1304         1           CAD   Male  ...   \n",
       "3        1304         1           CAD   Male  ...   \n",
       "4        1304         1           CAD   Male  ...   \n",
       "\n",
       "                        Subcategory CategoryKey                Category  \\\n",
       "0  Cameras & Camcorders Accessories           4  Cameras and camcorders   \n",
       "1  Cameras & Camcorders Accessories           4  Cameras and camcorders   \n",
       "2  Cameras & Camcorders Accessories           4  Cameras and camcorders   \n",
       "3  Cameras & Camcorders Accessories           4  Cameras and camcorders   \n",
       "4  Cameras & Camcorders Accessories           4  Cameras and camcorders   \n",
       "\n",
       "  Country_y  State_y Square Meters Open Date        Date Currency Exchange  \n",
       "0    Canada  Nunavut        1210.0  4/4/2015  2016-01-01      USD   1.0000  \n",
       "1    Canada  Nunavut        1210.0  4/4/2015  2016-01-01      CAD   1.3884  \n",
       "2    Canada  Nunavut        1210.0  4/4/2015  2016-01-01      AUD   1.3683  \n",
       "3    Canada  Nunavut        1210.0  4/4/2015  2016-01-01      EUR   0.9185  \n",
       "4    Canada  Nunavut        1210.0  4/4/2015  2016-01-01      GBP   0.6742  \n",
       "\n",
       "[5 rows x 34 columns]"
      ]
     },
     "execution_count": 3,
     "metadata": {},
     "output_type": "execute_result"
    }
   ],
   "source": [
    "merged_data = pd.read_csv(\"C:\\\\vs\\\\global\\\\merged_data.csv\")\n",
    "merged_data.head()"
   ]
  },
  {
   "cell_type": "code",
   "execution_count": 37,
   "metadata": {},
   "outputs": [
    {
     "data": {
      "text/plain": [
       "array(['USD', 'CAD', 'AUD', 'EUR', 'GBP'], dtype=object)"
      ]
     },
     "execution_count": 37,
     "metadata": {},
     "output_type": "execute_result"
    }
   ],
   "source": [
    "merged_data['Currency'].unique()"
   ]
  },
  {
   "cell_type": "code",
   "execution_count": 7,
   "metadata": {},
   "outputs": [],
   "source": [
    "import seaborn as sns\n",
    "import matplotlib.pyplot as plt"
   ]
  },
  {
   "cell_type": "code",
   "execution_count": null,
   "metadata": {},
   "outputs": [],
   "source": [
    "#Country&state Distribution\n",
    "\n",
    "plt.figure(figsize=(8, 6))\n",
    "sns.histplot(x='Country_x', data=merged_data)\n",
    "plt.title('Country & state Distribution')\n",
    "plt.xlabel('Country_x')\n",
    "plt.ylabel('State_x')\n",
    "plt.show()"
   ]
  },
  {
   "cell_type": "code",
   "execution_count": 4,
   "metadata": {},
   "outputs": [
    {
     "data": {
      "text/plain": [
       "array(['Male', 'Female'], dtype=object)"
      ]
     },
     "execution_count": 4,
     "metadata": {},
     "output_type": "execute_result"
    }
   ],
   "source": [
    "merged_data[\"Gender\"].unique()"
   ]
  },
  {
   "cell_type": "code",
   "execution_count": 5,
   "metadata": {},
   "outputs": [
    {
     "data": {
      "text/plain": [
       "Gender\n",
       "Male      159020\n",
       "Female    155400\n",
       "Name: count, dtype: int64"
      ]
     },
     "execution_count": 5,
     "metadata": {},
     "output_type": "execute_result"
    }
   ],
   "source": [
    "merged_data[\"Gender\"].value_counts()"
   ]
  },
  {
   "cell_type": "code",
   "execution_count": 8,
   "metadata": {},
   "outputs": [
    {
     "data": {
      "text/plain": [
       "<Axes: xlabel='Gender', ylabel='count'>"
      ]
     },
     "execution_count": 8,
     "metadata": {},
     "output_type": "execute_result"
    },
    {
     "data": {
      "image/png": "[encoded data removed]",
      "text/plain": [
       "<Figure size 640x480 with 1 Axes>"
      ]
     },
     "metadata": {},
     "output_type": "display_data"
    }
   ],
   "source": [
    "sns.countplot(data = merged_data , x = \"Gender\")"
   ]
  },
  {
   "cell_type": "code",
   "execution_count": 35,
   "metadata": {},
   "outputs": [
    {
     "data": {
      "text/html": [
       "<div>\n",
       "<style scoped>\n",
       "    .dataframe tbody tr th:only-of-type {\n",
       "        vertical-align: middle;\n",
       "    }\n",
       "\n",
       "    .dataframe tbody tr th {\n",
       "        vertical-align: top;\n",
       "    }\n",
       "\n",
       "    .dataframe thead th {\n",
       "        text-align: right;\n",
       "    }\n",
       "</style>\n",
       "<table border=\"1\" class=\"dataframe\">\n",
       "  <thead>\n",
       "    <tr style=\"text-align: right;\">\n",
       "      <th></th>\n",
       "      <th>CustomerKey</th>\n",
       "      <th>Gender</th>\n",
       "      <th>Name</th>\n",
       "      <th>City</th>\n",
       "      <th>State Code</th>\n",
       "      <th>State</th>\n",
       "      <th>Zip Code</th>\n",
       "      <th>Country</th>\n",
       "      <th>Continent</th>\n",
       "      <th>Birthday</th>\n",
       "    </tr>\n",
       "  </thead>\n",
       "  <tbody>\n",
       "    <tr>\n",
       "      <th>0</th>\n",
       "      <td>301</td>\n",
       "      <td>Female</td>\n",
       "      <td>Lilly Harding</td>\n",
       "      <td>WANDEARAH EAST</td>\n",
       "      <td>SA</td>\n",
       "      <td>South Australia</td>\n",
       "      <td>5523</td>\n",
       "      <td>Australia</td>\n",
       "      <td>Australia</td>\n",
       "      <td>7/3/1939</td>\n",
       "    </tr>\n",
       "    <tr>\n",
       "      <th>1</th>\n",
       "      <td>325</td>\n",
       "      <td>Female</td>\n",
       "      <td>Madison Hull</td>\n",
       "      <td>MOUNT BUDD</td>\n",
       "      <td>WA</td>\n",
       "      <td>Western Australia</td>\n",
       "      <td>6522</td>\n",
       "      <td>Australia</td>\n",
       "      <td>Australia</td>\n",
       "      <td>9/27/1979</td>\n",
       "    </tr>\n",
       "    <tr>\n",
       "      <th>2</th>\n",
       "      <td>554</td>\n",
       "      <td>Female</td>\n",
       "      <td>Claire Ferres</td>\n",
       "      <td>WINJALLOK</td>\n",
       "      <td>VIC</td>\n",
       "      <td>Victoria</td>\n",
       "      <td>3380</td>\n",
       "      <td>Australia</td>\n",
       "      <td>Australia</td>\n",
       "      <td>5/26/1947</td>\n",
       "    </tr>\n",
       "    <tr>\n",
       "      <th>3</th>\n",
       "      <td>786</td>\n",
       "      <td>Male</td>\n",
       "      <td>Jai Poltpalingada</td>\n",
       "      <td>MIDDLE RIVER</td>\n",
       "      <td>SA</td>\n",
       "      <td>South Australia</td>\n",
       "      <td>5223</td>\n",
       "      <td>Australia</td>\n",
       "      <td>Australia</td>\n",
       "      <td>9/17/1957</td>\n",
       "    </tr>\n",
       "    <tr>\n",
       "      <th>4</th>\n",
       "      <td>1042</td>\n",
       "      <td>Male</td>\n",
       "      <td>Aidan Pankhurst</td>\n",
       "      <td>TAWONGA SOUTH</td>\n",
       "      <td>VIC</td>\n",
       "      <td>Victoria</td>\n",
       "      <td>3698</td>\n",
       "      <td>Australia</td>\n",
       "      <td>Australia</td>\n",
       "      <td>11/19/1965</td>\n",
       "    </tr>\n",
       "  </tbody>\n",
       "</table>\n",
       "</div>"
      ],
      "text/plain": [
       "   CustomerKey  Gender               Name            City State Code  \\\n",
       "0          301  Female      Lilly Harding  WANDEARAH EAST         SA   \n",
       "1          325  Female       Madison Hull      MOUNT BUDD         WA   \n",
       "2          554  Female      Claire Ferres       WINJALLOK        VIC   \n",
       "3          786    Male  Jai Poltpalingada    MIDDLE RIVER         SA   \n",
       "4         1042    Male    Aidan Pankhurst   TAWONGA SOUTH        VIC   \n",
       "\n",
       "               State Zip Code    Country  Continent    Birthday  \n",
       "0    South Australia     5523  Australia  Australia    7/3/1939  \n",
       "1  Western Australia     6522  Australia  Australia   9/27/1979  \n",
       "2           Victoria     3380  Australia  Australia   5/26/1947  \n",
       "3    South Australia     5223  Australia  Australia   9/17/1957  \n",
       "4           Victoria     3698  Australia  Australia  11/19/1965  "
      ]
     },
     "execution_count": 35,
     "metadata": {},
     "output_type": "execute_result"
    }
   ],
   "source": [
    "customers1 = pd.read_csv(\"C:\\\\vs\\\\global\\\\cleaned data\\\\Customers1.csv\")\n",
    "customers1.head()"
   ]
  },
  {
   "cell_type": "code",
   "execution_count": null,
   "metadata": {},
   "outputs": [],
   "source": [
    "# Connect to MySQL server\n",
    "conn = mysql.connector.connect(host=\"localhost\", user=\"root\", password=\"NISHa1413@@@\")\n",
    "\n",
    "cursor = conn.cursor()\n",
    "cursor.execute(\"CREATE DATABASE IF NOT EXISTS Global_Electronics\")\n",
    "cursor.close()\n",
    "conn.close()"
   ]
  },
  {
   "cell_type": "code",
   "execution_count": null,
   "metadata": {},
   "outputs": [],
   "source": [
    "# Connect to the new database\n",
    "conn = mysql.connector.connect(\n",
    "    host=\"localhost\", user=\"root\", password=\"NISHa1413@@@\", database=\"Global_Electronics\"\n",
    ")\n",
    "\n",
    "cursor = conn.cursor()"
   ]
  },
  {
   "cell_type": "code",
   "execution_count": null,
   "metadata": {},
   "outputs": [],
   "source": [
    "create_customers_table_query = '''\n",
    "        CREATE TABLE IF NOT EXISTS Customers (\n",
    "            CustomerKey INT PRIMARY KEY,\n",
    "            Gender VARCHAR(50),\n",
    "            Name VARCHAR(100),\n",
    "            City VARCHAR(100),\n",
    "            State_Code VARCHAR(100),\n",
    "            State VARCHAR(100),\n",
    "            Zip_Code VARCHAR(20),\n",
    "            Country VARCHAR(50),\n",
    "            Continent VARCHAR(50),\n",
    "            Birthday DATETIME\n",
    "        )\n",
    "        '''\n",
    "cursor.execute(create_customers_table_query)\n",
    "for _, row in customers.iterrows():\n",
    "            insert_customers_query = '''\n",
    "            INSERT INTO Customers (CustomerKey, Gender, Name, City, State_Code, State, Zip_Code, Country, Continent, Birthday)\n",
    "            VALUES (%s, %s, %s, %s, %s, %s, %s, %s, %s, %s)'''\n",
    "            cursor.execute(insert_customers_query, tuple(row))\n"
   ]
  },
  {
   "cell_type": "code",
   "execution_count": null,
   "metadata": {},
   "outputs": [],
   "source": [
    "# Create and populate products table\n",
    "create_products_table_query = '''\n",
    "        CREATE TABLE IF NOT EXISTS products (\n",
    "            ProductKey INT PRIMARY KEY,\n",
    "            Product_Name VARCHAR(100),\n",
    "            Brand VARCHAR(50),\n",
    "            Color VARCHAR(20),\n",
    "            Unit_Cost_USD DECIMAL,\n",
    "            Unit_Price_USD DECIMAL,\n",
    "            SubcategoryKey INT,\n",
    "            Subcategory VARCHAR(100),\n",
    "            CategoryKey INT,\n",
    "            Category VARCHAR(100)\n",
    "        )\n",
    "        '''\n",
    "cursor.execute(create_products_table_query)"
   ]
  },
  {
   "cell_type": "code",
   "execution_count": null,
   "metadata": {},
   "outputs": [],
   "source": [
    "for _, row in products.iterrows():\n",
    "            insert_products_query = '''\n",
    "            INSERT INTO products (ProductKey, Product_Name, Brand, Color, Unit_Cost_USD, Unit_Price_USD, SubcategoryKey, Subcategory, CategoryKey, Category)\n",
    "            VALUES (%s, %s, %s, %s, %s, %s, %s, %s, %s, %s)\n",
    "            '''\n",
    "            cursor.execute(insert_products_query,tuple(row))"
   ]
  },
  {
   "cell_type": "code",
   "execution_count": null,
   "metadata": {},
   "outputs": [],
   "source": [
    "# Create and populate exchange_rates table\n",
    "create_exchange_rates_table_query = '''\n",
    "        CREATE TABLE IF NOT EXISTS exchange_rates (\n",
    "            Date DATE,\n",
    "            Currency VARCHAR(10),\n",
    "            Exchange DECIMAL(10, 4),\n",
    "            PRIMARY KEY (Date, Currency)\n",
    "        )\n",
    "        '''\n",
    "cursor.execute(create_exchange_rates_table_query)"
   ]
  },
  {
   "cell_type": "code",
   "execution_count": null,
   "metadata": {},
   "outputs": [],
   "source": [
    "for _, row in exchange_rates.iterrows():\n",
    "            insert_exchange_rates_query = '''\n",
    "            INSERT INTO exchange_rates (Date, Currency, Exchange)\n",
    "            VALUES (%s, %s, %s)\n",
    "            '''\n",
    "            cursor.execute(insert_exchange_rates_query, tuple(row))"
   ]
  },
  {
   "cell_type": "code",
   "execution_count": 67,
   "metadata": {},
   "outputs": [],
   "source": [
    "# Create and populate sales table\n",
    "create_sales_table_query = '''\n",
    "        CREATE TABLE IF NOT EXISTS sales (\n",
    "            Order_Number INT,\n",
    "            Line_Item INT,\n",
    "            Order_Date DATE,\n",
    "            Delivery_Date DATE,\n",
    "            CustomerKey INT,\n",
    "            StoreKey INT,  -- Not linking with stores table\n",
    "            ProductKey INT,\n",
    "            Quantity INT,\n",
    "            Currency_Code VARCHAR(10),\n",
    "            PRIMARY KEY (Order_Number, Line_Item),\n",
    "            FOREIGN KEY (CustomerKey) REFERENCES Customers (CustomerKey),\n",
    "            FOREIGN KEY (ProductKey) REFERENCES products (ProductKey)\n",
    "        )\n",
    "        '''\n",
    "cursor.execute(create_sales_table_query)\n"
   ]
  },
  {
   "cell_type": "code",
   "execution_count": null,
   "metadata": {},
   "outputs": [],
   "source": [
    "for _, row in sales.iterrows():\n",
    "            insert_sales_query = '''\n",
    "            INSERT INTO sales (Order_Number, Line_Item, Order_Date, Delivery_Date, CustomerKey, StoreKey, ProductKey, Quantity, Currency_Code)\n",
    "            VALUES (%s, %s, %s, %s, %s, %s, %s, %s, %s)\n",
    "            '''\n",
    "cursor.execute(insert_sales_query, tuple(row))"
   ]
  },
  {
   "cell_type": "code",
   "execution_count": null,
   "metadata": {},
   "outputs": [],
   "source": [
    "# Create and populate stores table\n",
    "create_stores_table_query = '''\n",
    "        CREATE TABLE IF NOT EXISTS stores (\n",
    "            StoreKey INT PRIMARY KEY,\n",
    "            Country VARCHAR(50),\n",
    "            State VARCHAR(50),\n",
    "            Square_Meters DECIMAL,\n",
    "            Open_Date DATE\n",
    "        )\n",
    "        '''\n",
    "cursor.execute(create_stores_table_query)"
   ]
  },
  {
   "cell_type": "code",
   "execution_count": null,
   "metadata": {},
   "outputs": [],
   "source": [
    "for _, row in stores.iterrows():\n",
    "            insert_stores_query = '''\n",
    "            INSERT INTO stores (StoreKey, Country, State, Square_Meters, Open_Date)\n",
    "            VALUES (%s, %s, %s, %s, %s)\n",
    "            '''\n",
    "            cursor.execute(insert_stores_query, tuple(row))"
   ]
  },
  {
   "cell_type": "code",
   "execution_count": null,
   "metadata": {},
   "outputs": [],
   "source": [
    "# Get column names and types\n",
    "columns = merged_data.columns\n",
    "column_types = []\n",
    "\n",
    "# Define a mapping from pandas dtype to SQL type\n",
    "type_mapping = {\n",
    "    \"int64\": \"INT\",\n",
    "    \"float64\": \"FLOAT\",\n",
    "    \"object\": \"VARCHAR(255)\",\n",
    "    \"datetime64[ns]\": \"DATETIME\",\n",
    "}\n",
    "\n",
    "# Generate column type definitions\n",
    "for col in columns:\n",
    "    dtype = str(merged_data[col].dtype)\n",
    "    sql_type = type_mapping.get(dtype, \"VARCHAR(255)\")\n",
    "    column_types.append(f\"`{col}` {sql_type}\")\n",
    "\n",
    "# Create SQL statement for table creation\n",
    "create_table_query = f\"\"\"\n",
    "CREATE TABLE IF NOT EXISTS Global_Electronics_Table (\n",
    "    {', '.join(column_types)}\n",
    ")\n",
    "\"\"\"\n",
    "\n",
    "cursor.execute(create_table_query)"
   ]
  },
  {
   "cell_type": "code",
   "execution_count": null,
   "metadata": {},
   "outputs": [],
   "source": [
    "# Prepare the INSERT INTO SQL statement\n",
    "insert_query = f\"\"\"\n",
    "INSERT INTO Global_Electronics_Table ({', '.join([f'`{col}`' for col in columns])})\n",
    "VALUES ({', '.join(['%s'] * len(columns))})\n",
    "\"\"\"\n",
    "\n",
    "# Insert the data\n",
    "for index, row in merged_data.iterrows():\n",
    "    cursor.execute(insert_query, tuple(row))\n",
    "\n"
   ]
  },
  {
   "cell_type": "code",
   "execution_count": null,
   "metadata": {},
   "outputs": [],
   "source": [
    "query = '''\n",
    "        SELECT gender, \n",
    "        COUNT(*) AS count \n",
    "        FROM Customers \n",
    "        GROUP BY gender\n",
    "        '''\n",
    "cursor.execute(query)\n",
    "for table in cursor:\n",
    "    print(table)"
   ]
  },
  {
   "cell_type": "code",
   "execution_count": null,
   "metadata": {},
   "outputs": [],
   "source": [
    "2.#-- countery wise customer count\n",
    "query='''\n",
    "        SELECT continent,Country_x,state_x,city, \n",
    "        COUNT(CustomerKey) AS count\n",
    "        FROM Global_Electronics_Table \n",
    "        GROUP BY continent,Country_x,state_x,city\n",
    "        ORDER BY count DESC'''\n",
    "cursor.execute(query)\n",
    "for table in cursor:\n",
    "   print(table)"
   ]
  },
  {
   "cell_type": "code",
   "execution_count": null,
   "metadata": {},
   "outputs": [],
   "source": [
    "#3. Analyze the distribution of customers based on age\n",
    "query = '''\n",
    "        SELECT YEAR(CURDATE()) - YEAR(Birthday) AS age, \n",
    "        COUNT(*) AS count \n",
    "        FROM Global_Electronics_Table \n",
    "        GROUP BY age \n",
    "        ORDER BY age\n",
    "        '''\n",
    "cursor.execute(query)\n",
    "for table in cursor:\n",
    "    print(table)"
   ]
  },
  {
   "cell_type": "code",
   "execution_count": 69,
   "metadata": {},
   "outputs": [
    {
     "name": "stdout",
     "output_type": "stream",
     "text": [
      "('Movie DVD', Decimal('144010'))\n",
      "('Desktops', Decimal('103130'))\n",
      "('Bluetooth Headphones', Decimal('68265'))\n",
      "('Download Games', Decimal('57735'))\n",
      "('Boxed Games', Decimal('55220'))\n"
     ]
    }
   ],
   "source": [
    "#4. Query for total sales based on product subcategory\n",
    "query = '''\n",
    "    SELECT Subcategory, SUM(Quantity) as total_Sales\n",
    "    FROM Global_Electronics_Table\n",
    "    GROUP BY Subcategory\n",
    "    ORDER BY total_Sales DESC\n",
    "    LIMIT 5\n",
    "'''\n",
    "cursor.execute(query)\n",
    "for table in cursor:\n",
    "  print(table)\n"
   ]
  },
  {
   "cell_type": "code",
   "execution_count": null,
   "metadata": {},
   "outputs": [],
   "source": [
    "#5. view total sales for each product category\n",
    "query = '''\n",
    "    SELECT Category, SUM(Quantity) as total_Sales\n",
    "    FROM Global_Electronics_Table\n",
    "    GROUP BY Category\n",
    "    ORDER BY total_Sales DESC\n",
    "    LIMIT 5\n",
    "'''\n",
    "cursor.execute(query)\n",
    "for table in cursor:\n",
    "  print(table)\n"
   ]
  },
  {
   "cell_type": "code",
   "execution_count": null,
   "metadata": {},
   "outputs": [],
   "source": [
    "#6. Query for top 5 countries with high Average sales\n",
    "query = '''\n",
    "    SELECT Country_y as Country, AVG(Quantity) as average_Sales\n",
    "    FROM Global_Electronics_Table\n",
    "    GROUP BY Country\n",
    "    ORDER BY average_Sales DESC\n",
    "    LIMIT 5\n",
    "'''\n",
    "cursor.execute(query)\n",
    "for table in cursor:\n",
    "  print(table)\n"
   ]
  },
  {
   "cell_type": "code",
   "execution_count": 70,
   "metadata": {},
   "outputs": [
    {
     "name": "stdout",
     "output_type": "stream",
     "text": [
      "('Contoso', 710)\n",
      "('Wide World Importers', 173)\n",
      "('Northwind Traders', 47)\n",
      "('Adventure Works', 192)\n",
      "('Southridge Video', 192)\n",
      "('Litware', 264)\n",
      "('Fabrikam', 267)\n",
      "('Proseware', 244)\n",
      "('A. Datum', 132)\n",
      "('The Phone Company', 152)\n",
      "('Tailspin Toys', 144)\n"
     ]
    }
   ],
   "source": [
    "#7.Count the brand using the products table\n",
    "query = '''\n",
    "        SELECT Brand, \n",
    "        COUNT(*) AS count \n",
    "        FROM products\n",
    "        GROUP BY Brand\n",
    "        '''\n",
    "cursor.execute(query)\n",
    "for table in cursor:\n",
    "    print(table)"
   ]
  },
  {
   "cell_type": "code",
   "execution_count": null,
   "metadata": {},
   "outputs": [],
   "source": [
    "#8.Sum of quantity by using productkey\n",
    "query = '''\n",
    "    SELECT ProductKey, SUM(Quantity) as total_Sales\n",
    "    FROM Global_Electronics_Table \n",
    "    GROUP BY ProductKey\n",
    "    ORDER BY total_Sales DESC\n",
    "'''\n",
    "cursor.execute(query)\n",
    "for table in cursor:\n",
    "    print(table)\n"
   ]
  },
  {
   "cell_type": "code",
   "execution_count": 71,
   "metadata": {},
   "outputs": [
    {
     "name": "stdout",
     "output_type": "stream",
     "text": [
      "('Silver', 417)\n",
      "('Blue', 200)\n",
      "('White', 505)\n",
      "('Red', 99)\n",
      "('Black', 602)\n",
      "('Green', 74)\n",
      "('Orange', 55)\n",
      "('Pink', 84)\n",
      "('Yellow', 36)\n",
      "('Purple', 6)\n",
      "('Brown', 77)\n",
      "('Grey', 283)\n",
      "('Gold', 50)\n",
      "('Azure', 14)\n",
      "('Silver Grey', 14)\n",
      "('Transparent', 1)\n"
     ]
    }
   ],
   "source": [
    "#9.Count of category by using color\n",
    "query = '''\n",
    "    SELECT Color,  \n",
    "    COUNT(*) AS count \n",
    "    FROM products\n",
    "    GROUP BY Color\n",
    "'''\n",
    "cursor.execute(query)\n",
    "for table in cursor:\n",
    "    print(table)"
   ]
  },
  {
   "cell_type": "code",
   "execution_count": 79,
   "metadata": {},
   "outputs": [
    {
     "name": "stdout",
     "output_type": "stream",
     "text": [
      "(2000.0, Decimal('250760'))\n",
      "(840.0, Decimal('226485'))\n",
      "(2100.0, Decimal('54365'))\n",
      "(1260.0, Decimal('41040'))\n",
      "(1120.0, Decimal('33065'))\n"
     ]
    }
   ],
   "source": [
    "#10.query for top 5 Store sizes with maximum Sale quantity\n",
    "query = '''\n",
    "    select `Square Meters`, sum(Quantity) as Total_Sales\n",
    "    from Global_Electronics_Table\n",
    "    group by `Square Meters`\n",
    "    order by Total_Sales desc\n",
    "    limit 5\n",
    "'''\n",
    "cursor.execute(query)\n",
    "for table in cursor:\n",
    "    print(table)"
   ]
  }
 ],
 "metadata": {
  "kernelspec": {
   "display_name": ".venv",
   "language": "python",
   "name": "python3"
  },
  "language_info": {
   "codemirror_mode": {
    "name": "ipython",
    "version": 3
   },
   "file_extension": ".py",
   "mimetype": "text/x-python",
   "name": "python",
   "nbconvert_exporter": "python",
   "pygments_lexer": "ipython3",
   "version": "3.12.3"
  }
 },
 "nbformat": 4,
 "nbformat_minor": 2
}
